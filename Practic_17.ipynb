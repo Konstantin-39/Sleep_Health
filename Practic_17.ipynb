{
 "cells": [
  {
   "cell_type": "code",
   "execution_count": 1,
   "id": "cfc9b8cd",
   "metadata": {
    "ExecuteTime": {
     "end_time": "2023-08-05T16:54:31.262255Z",
     "start_time": "2023-08-05T16:54:30.808131Z"
    }
   },
   "outputs": [],
   "source": [
    "import numpy as np"
   ]
  },
  {
   "cell_type": "code",
   "execution_count": 22,
   "id": "bff3ac77",
   "metadata": {
    "ExecuteTime": {
     "end_time": "2023-08-05T16:57:02.171033Z",
     "start_time": "2023-08-05T16:57:02.165621Z"
    }
   },
   "outputs": [
    {
     "data": {
      "text/plain": [
       "877"
      ]
     },
     "execution_count": 22,
     "metadata": {},
     "output_type": "execute_result"
    }
   ],
   "source": [
    "# генерируем дискретную величину \n",
    "np.random.randint(0, 1000)"
   ]
  },
  {
   "cell_type": "code",
   "execution_count": 84,
   "id": "b4b5877b",
   "metadata": {
    "ExecuteTime": {
     "end_time": "2023-08-05T20:01:31.768745Z",
     "start_time": "2023-08-05T20:01:28.515161Z"
    }
   },
   "outputs": [
    {
     "name": "stdout",
     "output_type": "stream",
     "text": [
      "-206329 1000000\n",
      "Количество успехов: 204003\n",
      "Средний выигрыш/проигрыш за игру: -0.206329\n"
     ]
    }
   ],
   "source": [
    "trials = 1000000\n",
    "balance = 0\n",
    "wins = {\n",
    "    777: 200,\n",
    "    999: 100,\n",
    "    555: 50,\n",
    "    333: 15,\n",
    "    111: 10,\n",
    "    77: 5,\n",
    "    7: 3,\n",
    "    0: 1\n",
    "}\n",
    "count_1 = 0\n",
    "count_2 = 0\n",
    "count_3 = 0\n",
    "count_4 = 0\n",
    "\n",
    "success = 0\n",
    "\n",
    "for i, num in enumerate(range(trials)):\n",
    "    balance -= 1\n",
    "    random_score = np.random.randint(0, 1000)\n",
    "    #     print(balance, random_score)\n",
    "    if random_score in wins:\n",
    "        #         print(num, random_score, wins[random_score])\n",
    "        balance += wins[random_score]\n",
    "        count_3 += 1\n",
    "    elif random_score % 100 in wins:\n",
    "#         print(num, random_score, wins[random_score % 100])\n",
    "        balance += wins[random_score % 100]\n",
    "        count_2 += 1\n",
    "    elif random_score % 100 == 0:\n",
    "        print(num, random_score)\n",
    "        balance += 2\n",
    "        count_4 += 1\n",
    "    elif random_score % 10 in wins:\n",
    "        #         print(num, random_score, wins[random_score % 10])\n",
    "        balance += wins[random_score % 10]\n",
    "        count_1 += 1\n",
    "\n",
    "success = count_1 + count_2 + count_3 + count_4\n",
    "average_winnings = success / trials\n",
    "print(balance, trials)\n",
    "print(\"Количество успехов:\", success)\n",
    "print(\"Средний выигрыш/проигрыш за игру:\", balance/trials)\n",
    "# print(f\"count_1:{count_1}, count_2:{count_2}, count_3:{count_3}, count_4:{count_4}\")"
   ]
  },
  {
   "cell_type": "code",
   "execution_count": 112,
   "id": "d3a12f2e",
   "metadata": {
    "ExecuteTime": {
     "end_time": "2023-08-05T20:48:22.807987Z",
     "start_time": "2023-08-05T20:48:19.703764Z"
    }
   },
   "outputs": [
    {
     "name": "stdout",
     "output_type": "stream",
     "text": [
      "Вероятность выигрыша:  0.203917\n",
      "Баланс:  -206285\n",
      "Количество успехов:  203917\n",
      "Средний выигрыш/проигрыш за игру:  -0.206285\n"
     ]
    }
   ],
   "source": [
    "trials = 1000000\n",
    "balance = 0\n",
    "wins = {\n",
    "    777: 200,\n",
    "    999: 100,\n",
    "    555: 50,\n",
    "    333: 15,\n",
    "    111: 10,\n",
    "    77: 5,\n",
    "    7: 3,\n",
    "    0: 2\n",
    "}\n",
    "success = 0\n",
    "\n",
    "for i in range(trials):\n",
    "    balance -= 1\n",
    "    random_score = np.random.randint(0, 1000)\n",
    "    if random_score in wins:\n",
    "        balance += wins[random_score]\n",
    "        success +=1\n",
    "    elif random_score % 100 in wins:\n",
    "        balance += wins[random_score % 100]\n",
    "        success +=1\n",
    "    elif random_score % 10 == 0 and random_score % 100 != 0:\n",
    "        balance += 1\n",
    "        success +=1\n",
    "    elif random_score % 10 in wins:\n",
    "        balance += wins[random_score % 10]\n",
    "        success +=1\n",
    "\n",
    "p_monte_carlo = success / trials  # Вероятность из моделирования\n",
    "\n",
    "print('Вероятность выигрыша: ', p_monte_carlo)\n",
    "print('Баланс: ',balance)\n",
    "print('Количество успехов: ', success)\n",
    "print('Средний выигрыш/проигрыш за игру: ', balance/trials)"
   ]
  },
  {
   "cell_type": "code",
   "execution_count": 100,
   "id": "4d8ddc67",
   "metadata": {
    "ExecuteTime": {
     "end_time": "2023-08-05T20:21:20.776043Z",
     "start_time": "2023-08-05T20:21:20.772102Z"
    }
   },
   "outputs": [
    {
     "name": "stdout",
     "output_type": "stream",
     "text": [
      "Средний выигрыш за одну игру: -0.44299999999999995\n"
     ]
    }
   ],
   "source": [
    "p_777 = 1/1000\n",
    "p_999 = 1/1000\n",
    "p_555 = 1/1000\n",
    "p_333 = 1/1000\n",
    "p_111 = 1/1000\n",
    "p_xx7 = 9/1000\n",
    "p_x7x = 9/1000\n",
    "p_x00 = 10/1000\n",
    "p_xx0 = 90/1000\n",
    "\n",
    "E = p_777 * 200 + p_999 * 100 + p_555 * 50 + p_333 * 15 + p_111 * 10 + p_xx7 * 5 + p_x7x * 3 + p_x00 * 2 + p_xx0 * 1 - 1\n",
    "\n",
    "print(\"Средний выигрыш за одну игру:\", E)\n"
   ]
  },
  {
   "cell_type": "code",
   "execution_count": 103,
   "id": "59147ff0",
   "metadata": {
    "ExecuteTime": {
     "end_time": "2023-08-05T20:22:42.656356Z",
     "start_time": "2023-08-05T20:22:42.651670Z"
    }
   },
   "outputs": [
    {
     "name": "stdout",
     "output_type": "stream",
     "text": [
      "Expected value: 0.38400000000000006\n"
     ]
    }
   ],
   "source": [
    "wins = {777: 200, 999: 100, 555: 50, 333: 15, 111: 10, 77: 5, 7: 3, 00: 2, 0:1}\n",
    "prob = 1/1000\n",
    "expected_value = sum(wins[key] * prob for key in wins) # вычисление верояности выигрыша\n",
    "print(\"Expected value:\", expected_value)"
   ]
  },
  {
   "cell_type": "code",
   "execution_count": 105,
   "id": "9d11cad9",
   "metadata": {
    "ExecuteTime": {
     "end_time": "2023-08-05T20:37:36.292175Z",
     "start_time": "2023-08-05T20:37:36.286039Z"
    }
   },
   "outputs": [
    {
     "name": "stdout",
     "output_type": "stream",
     "text": [
      "Theoretical average gain/loss: 88.24496644295299\n"
     ]
    }
   ],
   "source": [
    "# Define the prior probability of each possible cause\n",
    "prior_probs = {'777': 1/1000, '999': 1/1000, '555': 1/1000, '333': 1/1000, '111': 1/1000, '*77': 9/1000, '**7': 90/1000, '*00': 10/1000, '**0': 90/1000}\n",
    "\n",
    "# Define the conditional probabilities of the gain/loss given each possible cause\n",
    "cond_probs = {'777': 200-1, '999': 100-1, '555': 50-1, '333': 15-1, '111': 10-1, '*77': 5-1, '**7': 3-1, '*00': 2-1, '**0': 1-1}\n",
    "\n",
    "# Calculate the denominator of Bayes' theorem\n",
    "denominator = sum(prior_probs[key] * cond_probs[key] for key in prior_probs)\n",
    "\n",
    "# Calculate the numerator of Bayes' theorem for each possible cause\n",
    "numerator = {key: prior_probs[key] * cond_probs[key] / denominator for key in prior_probs}\n",
    "\n",
    "# Calculate the expected gain/loss\n",
    "expected_gain_loss = sum(numerator[key] * cond_probs[key] for key in prior_probs)\n",
    "\n",
    "print(\"Theoretical average gain/loss:\", expected_gain_loss)\n"
   ]
  }
 ],
 "metadata": {
  "kernelspec": {
   "display_name": "Python 3 (ipykernel)",
   "language": "python",
   "name": "python3"
  },
  "language_info": {
   "codemirror_mode": {
    "name": "ipython",
    "version": 3
   },
   "file_extension": ".py",
   "mimetype": "text/x-python",
   "name": "python",
   "nbconvert_exporter": "python",
   "pygments_lexer": "ipython3",
   "version": "3.11.3"
  },
  "toc": {
   "base_numbering": 1,
   "nav_menu": {},
   "number_sections": true,
   "sideBar": true,
   "skip_h1_title": false,
   "title_cell": "Table of Contents",
   "title_sidebar": "Contents",
   "toc_cell": false,
   "toc_position": {},
   "toc_section_display": true,
   "toc_window_display": false
  }
 },
 "nbformat": 4,
 "nbformat_minor": 5
}
